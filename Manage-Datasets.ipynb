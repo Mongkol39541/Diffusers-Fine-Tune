{
 "cells": [
  {
   "cell_type": "markdown",
   "id": "0d6f77c8-7a70-452f-aa1c-ddd33402e18a",
   "metadata": {},
   "source": [
    "# Create Dataset"
   ]
  },
  {
   "cell_type": "code",
   "execution_count": 16,
   "id": "0078483e-2156-4c90-97c5-3ac79ae68e39",
   "metadata": {},
   "outputs": [
    {
     "data": {
      "text/plain": [
       "{'_id': '5d0916af66b04b724e36c767',\n",
       " 'url_mp4': '/mam/sqrtube/cqep9V/ติ่งหู.mp4',\n",
       " 'thumbnail': '/mam/sqrtube/cqep9V/thumbnail.png',\n",
       " 'orig_file': 'ติ่งหู.mp4',\n",
       " 'transcode360': 'Off',\n",
       " 'url_m3u8': '/mam/sqrtube/cqep9V/index.m3u8',\n",
       " 'vid': 'cqep9V',\n",
       " 'urlmp4_360': '/mam/sqrtube/cqep9V/360MP4/ติ่งหู.mp4',\n",
       " 'content_path': '/opt/lixen/dev/mam/sqrtube/cqep9V/',\n",
       " 'createdAt': '2019-06-18T23:51:59Z',\n",
       " 'urlmp4_480': '/mam/sqrtube/cqep9V/480MP4/ติ่งหู.mp4',\n",
       " 'transcode240': 'success',\n",
       " 'expire_date': '18-06-2572',\n",
       " 'transcode720MP4': 'Off',\n",
       " 'transcode720': 'success',\n",
       " 'transcode480MP4': 'success',\n",
       " 'owner': 'ttrs',\n",
       " 'transcode360MP4': 'Off',\n",
       " 'transcode240MP4': 'Off',\n",
       " 'transcode480': 'success',\n",
       " 'updatedAt': '2019-06-18T23:52:37Z',\n",
       " 'urlmp4_240': '/mam/sqrtube/cqep9V/240MP4/ติ่งหู.mp4',\n",
       " 'urlmp4_720': '/mam/sqrtube/cqep9V/720MP4/ติ่งหู.mp4',\n",
       " 'duration': '3.900000',\n",
       " 'catagory_id': '5d01f816c13a110aca7ac835',\n",
       " 'category': 'ร่างกายภายนอก',\n",
       " 'downloadStatus': 'false',\n",
       " 'videoIdSakod': '5d0916b066b04b724e36c76b',\n",
       " 'author': 'TTRS  ',\n",
       " 'status': 'public',\n",
       " 'name': 'ติ่งหู',\n",
       " 'description': 'เป็นชื่อเรียกของอวัยวะส่วนของหู โดยเป็นส่วนของปลายสุดของใบหู, ใบหูส่วนล่าง',\n",
       " 'gender': 'หญิง',\n",
       " 'creator': 'นางสาวชวาลา เจริญวงศ์ไพศาล',\n",
       " 'content_type_id': '61b036fa7c2df00024afa390',\n",
       " 'content_type': 'คำศัพท์',\n",
       " 'synonyms': [{'id': '5d11be5266b04b724e39d1b9', 'name': 'หู'}],\n",
       " 'parts_of_speech': 'คำนาม',\n",
       " 'reference': '',\n",
       " 'images': [{'filename': '343383eed0999670402ce8638596b6cd-1720498229898.PNG'}]}"
      ]
     },
     "execution_count": 16,
     "metadata": {},
     "output_type": "execute_result"
    }
   ],
   "source": [
    "import json\n",
    "\n",
    "with open('datasets/vdo.json', 'r', encoding='utf-8') as file:\n",
    "    data = json.load(file)\n",
    "\n",
    "data[\"result\"][0]"
   ]
  },
  {
   "cell_type": "code",
   "execution_count": null,
   "id": "6e3a7005-6dc0-42d0-ad39-41b22dc952f1",
   "metadata": {},
   "outputs": [
    {
     "data": {
      "application/vnd.jupyter.widget-view+json": {
       "model_id": "b3821da4df1644d991a1936f9ec00c3f",
       "version_major": 2,
       "version_minor": 0
      },
      "text/plain": [
       "Processing videos:   0%|          | 0/5048 [00:00<?, ?video/s]"
      ]
     },
     "metadata": {},
     "output_type": "display_data"
    }
   ],
   "source": [
    "import os\n",
    "import cv2\n",
    "import json\n",
    "from tqdm.auto import tqdm\n",
    "from unidecode import unidecode\n",
    "from PIL import Image\n",
    "\n",
    "video_folder = \"datasets/vdo\"\n",
    "output_base_folder = \"datasets/set_2\"\n",
    "os.makedirs(output_base_folder, exist_ok=True)\n",
    "\n",
    "output_metadata_file = \"datasets/set_2/original_image.json\"\n",
    "output_summary_file = \"datasets/set_2/summary.txt\"\n",
    "metadata = []\n",
    "summary = {\n",
    "    \"processed_videos\": 0,\n",
    "    \"skipped_videos\": 0,\n",
    "    \"video_details\": {},\n",
    "    \"skipped_details\": []\n",
    "}\n",
    "\n",
    "def normalize_name(name):\n",
    "    normalized = unidecode(name).replace(\" \", \"_\")\n",
    "    return normalized\n",
    "\n",
    "def process_image(image_path):\n",
    "    \"\"\"ทำการ crop และ resize ภาพ\"\"\"\n",
    "    img = Image.open(image_path)\n",
    "    width, height = img.size\n",
    "    if width > height:\n",
    "        left = (width - height) // 2\n",
    "        right = left + height\n",
    "        top, bottom = 0, height\n",
    "    else:\n",
    "        top = (height - width) // 2\n",
    "        bottom = top + width\n",
    "        left, right = 0, width\n",
    "\n",
    "    img = img.crop((left, top, right, bottom))\n",
    "    img = img.resize((512, 512), Image.Resampling.LANCZOS)\n",
    "    return img\n",
    "\n",
    "for item in tqdm(data[\"result\"], desc=\"Processing videos\", unit=\"video\"):\n",
    "    video_id = item[\"_id\"]\n",
    "    video_name = normalize_name(item[\"name\"].strip())\n",
    "\n",
    "    if \"creator\" not in item or not item[\"creator\"].strip():\n",
    "        summary[\"skipped_videos\"] += 1\n",
    "        summary[\"skipped_details\"].append({\n",
    "            \"video_id\": video_id,\n",
    "            \"video_name\": item[\"name\"],\n",
    "            \"reason\": \"Missing creator\"\n",
    "        })\n",
    "        continue\n",
    "\n",
    "    creator_name = normalize_name(item[\"creator\"].strip())\n",
    "    video_path = os.path.join(video_folder, f'{video_id}_{item[\"orig_file\"]}')\n",
    "    if os.path.isfile(video_path):\n",
    "        summary[\"processed_videos\"] += 1\n",
    "        summary[\"video_details\"].setdefault(creator_name, {\"count\": 0, \"videos\": []})\n",
    "        summary[\"video_details\"][creator_name][\"count\"] += 1\n",
    "        summary[\"video_details\"][creator_name][\"videos\"].append(video_name)\n",
    "\n",
    "        creator_folder = os.path.join(output_base_folder, creator_name)\n",
    "        os.makedirs(creator_folder, exist_ok=True)\n",
    "        name_folder = os.path.join(creator_folder, video_name, \"image\")\n",
    "        os.makedirs(name_folder, exist_ok=True)\n",
    "        cap = cv2.VideoCapture(video_path)\n",
    "        frame_count = 0\n",
    "        while cap.isOpened():\n",
    "            ret, frame = cap.read()\n",
    "            if not ret:\n",
    "                break\n",
    "            temp_frame_path = \"temp_frame.jpg\"\n",
    "            cv2.imwrite(temp_frame_path, frame)\n",
    "            processed_img = process_image(temp_frame_path)\n",
    "            frame_filename = os.path.join(name_folder, f\"{video_id}_{frame_count:04d}.jpg\")\n",
    "            processed_img.save(frame_filename)\n",
    "            metadata.append({\n",
    "                \"frame_path\": frame_filename,\n",
    "                \"creator\": item[\"creator\"],\n",
    "                \"gender\": item.get(\"gender\", \"unknown\"),\n",
    "                \"name\": item[\"name\"],\n",
    "                \"frame_index\": frame_count\n",
    "            })\n",
    "            frame_count += 1\n",
    "        cap.release()\n",
    "    else:\n",
    "        summary[\"skipped_videos\"] += 1\n",
    "        summary[\"skipped_details\"].append({\n",
    "            \"video_id\": video_id,\n",
    "            \"video_name\": item[\"name\"],\n",
    "            \"reason\": \"Video file not found\"\n",
    "        })\n",
    "\n",
    "with open(output_metadata_file, \"w\", encoding=\"utf-8\") as f:\n",
    "    json.dump(metadata, f, ensure_ascii=False, indent=4)\n",
    "\n",
    "with open(output_summary_file, \"w\", encoding=\"utf-8\") as f:\n",
    "    f.write(\"=== Summary ===\\n\")\n",
    "    f.write(f\"Processed videos: {summary['processed_videos']}\\n\")\n",
    "    f.write(f\"Skipped videos: {summary['skipped_videos']}\\n\")\n",
    "    f.write(\"Details per creator:\\n\")\n",
    "    for creator, details in summary[\"video_details\"].items():\n",
    "        f.write(f\"  {creator}: {details['count']} video(s)\\n\")\n",
    "    f.write(\"\\nSkipped videos:\\n\")\n",
    "    for skipped in summary[\"skipped_details\"]:\n",
    "        f.write(f\"  Video ID: {skipped['video_id']}, Name: {skipped['video_name']}, Reason: {skipped['reason']}\\n\")\n",
    "\n",
    "print(f\"บันทึก metadata สำเร็จที่ {output_metadata_file}\")\n",
    "print(f\"บันทึก summary สำเร็จที่ {output_summary_file}\")"
   ]
  },
  {
   "cell_type": "markdown",
   "id": "26d5164b-76b2-4e51-80e6-c1a667fed57d",
   "metadata": {},
   "source": [
    "# Conditioning Image"
   ]
  },
  {
   "cell_type": "code",
   "execution_count": 2,
   "id": "00bdf849-128c-41ad-9c89-69bfd171d91e",
   "metadata": {},
   "outputs": [
    {
     "data": {
      "text/plain": [
       "{'frame_path': 'datasets/set_1/naangsaawchwaalaa_ecchriywngsaiphsaal/tinghuu/image/5d0916af66b04b724e36c767_0000.jpg',\n",
       " 'creator': 'นางสาวชวาลา เจริญวงศ์ไพศาล',\n",
       " 'gender': 'หญิง',\n",
       " 'name': 'ติ่งหู',\n",
       " 'frame_index': 0}"
      ]
     },
     "execution_count": 2,
     "metadata": {},
     "output_type": "execute_result"
    }
   ],
   "source": [
    "import json\n",
    "\n",
    "with open('datasets/set_1/original_image.json', 'r', encoding='utf-8') as file:\n",
    "    data = json.load(file)\n",
    "\n",
    "data[0]"
   ]
  },
  {
   "cell_type": "code",
   "execution_count": 3,
   "id": "bd8ceebb-7042-462f-92ad-1d98f77c2f46",
   "metadata": {},
   "outputs": [
    {
     "data": {
      "text/plain": [
       "creator\n",
       "นายธนูเกียรติ ลอยประโคน       89747\n",
       "กาญจนา พิมพา                  65813\n",
       "นางสาวชวาลา เจริญวงศ์ไพศาล    38878\n",
       "ธนูเกียรติ ลอยประโคน          26601\n",
       "นางสาวกาญจนา พิมพา            23465\n",
       "นางสาวนภารัตน์ รุ่มนุ่ม        1359\n",
       "ทดสอบ                           219\n",
       "นายวีรภัทร ชูพรหมแก้ว            85\n",
       "นายนูเกียรติ ลอยประโคน           84\n",
       "นายสุทธิพงษ์ สุคำหล้า            66\n",
       "Name: count, dtype: int64"
      ]
     },
     "execution_count": 3,
     "metadata": {},
     "output_type": "execute_result"
    }
   ],
   "source": [
    "import pandas as pd\n",
    "\n",
    "df = pd.DataFrame(data)\n",
    "df['creator'] = df['creator'].str.replace(r'\\t', '', regex=True).str.strip()\n",
    "df['creator'].value_counts()"
   ]
  },
  {
   "cell_type": "code",
   "execution_count": 4,
   "id": "92c17411-42bf-4c6f-9e04-8e9dad92eced",
   "metadata": {},
   "outputs": [
    {
     "data": {
      "text/html": [
       "<div>\n",
       "<style scoped>\n",
       "    .dataframe tbody tr th:only-of-type {\n",
       "        vertical-align: middle;\n",
       "    }\n",
       "\n",
       "    .dataframe tbody tr th {\n",
       "        vertical-align: top;\n",
       "    }\n",
       "\n",
       "    .dataframe thead th {\n",
       "        text-align: right;\n",
       "    }\n",
       "</style>\n",
       "<table border=\"1\" class=\"dataframe\">\n",
       "  <thead>\n",
       "    <tr style=\"text-align: right;\">\n",
       "      <th></th>\n",
       "      <th>frame_path</th>\n",
       "      <th>creator</th>\n",
       "      <th>gender</th>\n",
       "      <th>name</th>\n",
       "      <th>frame_index</th>\n",
       "    </tr>\n",
       "  </thead>\n",
       "  <tbody>\n",
       "    <tr>\n",
       "      <th>0</th>\n",
       "      <td>datasets/set_1/naangsaawchwaalaa_ecchriywngsai...</td>\n",
       "      <td>ชวาลา เจริญวงศ์ไพศาล</td>\n",
       "      <td>หญิง</td>\n",
       "      <td>TTRS1</td>\n",
       "      <td>0</td>\n",
       "    </tr>\n",
       "    <tr>\n",
       "      <th>1</th>\n",
       "      <td>datasets/set_1/naangsaawchwaalaa_ecchriywngsai...</td>\n",
       "      <td>ชวาลา เจริญวงศ์ไพศาล</td>\n",
       "      <td>หญิง</td>\n",
       "      <td>TTRS1</td>\n",
       "      <td>1</td>\n",
       "    </tr>\n",
       "    <tr>\n",
       "      <th>2</th>\n",
       "      <td>datasets/set_1/naangsaawchwaalaa_ecchriywngsai...</td>\n",
       "      <td>ชวาลา เจริญวงศ์ไพศาล</td>\n",
       "      <td>หญิง</td>\n",
       "      <td>TTRS1</td>\n",
       "      <td>2</td>\n",
       "    </tr>\n",
       "    <tr>\n",
       "      <th>3</th>\n",
       "      <td>datasets/set_1/naangsaawchwaalaa_ecchriywngsai...</td>\n",
       "      <td>ชวาลา เจริญวงศ์ไพศาล</td>\n",
       "      <td>หญิง</td>\n",
       "      <td>TTRS1</td>\n",
       "      <td>3</td>\n",
       "    </tr>\n",
       "    <tr>\n",
       "      <th>4</th>\n",
       "      <td>datasets/set_1/naangsaawchwaalaa_ecchriywngsai...</td>\n",
       "      <td>ชวาลา เจริญวงศ์ไพศาล</td>\n",
       "      <td>หญิง</td>\n",
       "      <td>TTRS1</td>\n",
       "      <td>4</td>\n",
       "    </tr>\n",
       "    <tr>\n",
       "      <th>...</th>\n",
       "      <td>...</td>\n",
       "      <td>...</td>\n",
       "      <td>...</td>\n",
       "      <td>...</td>\n",
       "      <td>...</td>\n",
       "    </tr>\n",
       "    <tr>\n",
       "      <th>246312</th>\n",
       "      <td>datasets/set_1/naaythnuuekiiyrti_l`ypraokhn/ch...</td>\n",
       "      <td>ธนูเกียรติ ลอยประโคน</td>\n",
       "      <td>ชาย</td>\n",
       "      <td>TTRS2</td>\n",
       "      <td>61</td>\n",
       "    </tr>\n",
       "    <tr>\n",
       "      <th>246313</th>\n",
       "      <td>datasets/set_1/naaythnuuekiiyrti_l`ypraokhn/ch...</td>\n",
       "      <td>ธนูเกียรติ ลอยประโคน</td>\n",
       "      <td>ชาย</td>\n",
       "      <td>TTRS2</td>\n",
       "      <td>62</td>\n",
       "    </tr>\n",
       "    <tr>\n",
       "      <th>246314</th>\n",
       "      <td>datasets/set_1/naaythnuuekiiyrti_l`ypraokhn/ch...</td>\n",
       "      <td>ธนูเกียรติ ลอยประโคน</td>\n",
       "      <td>ชาย</td>\n",
       "      <td>TTRS2</td>\n",
       "      <td>63</td>\n",
       "    </tr>\n",
       "    <tr>\n",
       "      <th>246315</th>\n",
       "      <td>datasets/set_1/naaythnuuekiiyrti_l`ypraokhn/ch...</td>\n",
       "      <td>ธนูเกียรติ ลอยประโคน</td>\n",
       "      <td>ชาย</td>\n",
       "      <td>TTRS2</td>\n",
       "      <td>64</td>\n",
       "    </tr>\n",
       "    <tr>\n",
       "      <th>246316</th>\n",
       "      <td>datasets/set_1/naaythnuuekiiyrti_l`ypraokhn/ch...</td>\n",
       "      <td>ธนูเกียรติ ลอยประโคน</td>\n",
       "      <td>ชาย</td>\n",
       "      <td>TTRS2</td>\n",
       "      <td>65</td>\n",
       "    </tr>\n",
       "  </tbody>\n",
       "</table>\n",
       "<p>246317 rows × 5 columns</p>\n",
       "</div>"
      ],
      "text/plain": [
       "                                               frame_path  \\\n",
       "0       datasets/set_1/naangsaawchwaalaa_ecchriywngsai...   \n",
       "1       datasets/set_1/naangsaawchwaalaa_ecchriywngsai...   \n",
       "2       datasets/set_1/naangsaawchwaalaa_ecchriywngsai...   \n",
       "3       datasets/set_1/naangsaawchwaalaa_ecchriywngsai...   \n",
       "4       datasets/set_1/naangsaawchwaalaa_ecchriywngsai...   \n",
       "...                                                   ...   \n",
       "246312  datasets/set_1/naaythnuuekiiyrti_l`ypraokhn/ch...   \n",
       "246313  datasets/set_1/naaythnuuekiiyrti_l`ypraokhn/ch...   \n",
       "246314  datasets/set_1/naaythnuuekiiyrti_l`ypraokhn/ch...   \n",
       "246315  datasets/set_1/naaythnuuekiiyrti_l`ypraokhn/ch...   \n",
       "246316  datasets/set_1/naaythnuuekiiyrti_l`ypraokhn/ch...   \n",
       "\n",
       "                     creator gender   name  frame_index  \n",
       "0       ชวาลา เจริญวงศ์ไพศาล   หญิง  TTRS1            0  \n",
       "1       ชวาลา เจริญวงศ์ไพศาล   หญิง  TTRS1            1  \n",
       "2       ชวาลา เจริญวงศ์ไพศาล   หญิง  TTRS1            2  \n",
       "3       ชวาลา เจริญวงศ์ไพศาล   หญิง  TTRS1            3  \n",
       "4       ชวาลา เจริญวงศ์ไพศาล   หญิง  TTRS1            4  \n",
       "...                      ...    ...    ...          ...  \n",
       "246312  ธนูเกียรติ ลอยประโคน    ชาย  TTRS2           61  \n",
       "246313  ธนูเกียรติ ลอยประโคน    ชาย  TTRS2           62  \n",
       "246314  ธนูเกียรติ ลอยประโคน    ชาย  TTRS2           63  \n",
       "246315  ธนูเกียรติ ลอยประโคน    ชาย  TTRS2           64  \n",
       "246316  ธนูเกียรติ ลอยประโคน    ชาย  TTRS2           65  \n",
       "\n",
       "[246317 rows x 5 columns]"
      ]
     },
     "execution_count": 4,
     "metadata": {},
     "output_type": "execute_result"
    }
   ],
   "source": [
    "df['creator'] = df['creator'].str.replace(r'^(นาย|นางสาว)', '', regex=True).str.strip()\n",
    "df['creator'] = df['creator'].replace('นูเกียรติ ลอยประโคน', 'ธนูเกียรติ ลอยประโคน')\n",
    "unique_creators = df['creator'].unique()\n",
    "mapping = {name: f\"TTRS{i+1}\" for i, name in enumerate(unique_creators)}\n",
    "df['name'] = df['creator'].map(mapping)\n",
    "df"
   ]
  },
  {
   "cell_type": "code",
   "execution_count": 5,
   "id": "1f72c448-2f96-479f-a377-6c5e454566d5",
   "metadata": {},
   "outputs": [
    {
     "name": "stdout",
     "output_type": "stream",
     "text": [
      "ชวาลา เจริญวงศ์ไพศาล -> TTRS1\n",
      "ธนูเกียรติ ลอยประโคน -> TTRS2\n",
      "ทดสอบ -> TTRS3\n",
      "วีรภัทร ชูพรหมแก้ว -> TTRS4\n",
      "สุทธิพงษ์ สุคำหล้า -> TTRS5\n",
      "กาญจนา พิมพา -> TTRS6\n",
      "นภารัตน์ รุ่มนุ่ม -> TTRS7\n"
     ]
    }
   ],
   "source": [
    "unique_creators = df['creator'].unique()\n",
    "mapping = {name: f\"TTRS{i+1}\" for i, name in enumerate(unique_creators)}\n",
    "\n",
    "for creator, ttrs in mapping.items():\n",
    "    print(f\"{creator} -> {ttrs}\")"
   ]
  },
  {
   "cell_type": "code",
   "execution_count": 1,
   "id": "c98f6fac-5100-4183-9327-04dea2edf416",
   "metadata": {},
   "outputs": [
    {
     "data": {
      "text/plain": [
       "<flux.controlnet_aux.open_pose.OpenposeDetector at 0x7fa18c7effa0>"
      ]
     },
     "execution_count": 1,
     "metadata": {},
     "output_type": "execute_result"
    }
   ],
   "source": [
    "from flux.controlnet_aux import OpenposeDetector\n",
    "\n",
    "open_pose = OpenposeDetector.from_pretrained(\"base_model/Annotators\")\n",
    "open_pose.to(\"cuda\")"
   ]
  },
  {
   "cell_type": "code",
   "execution_count": 19,
   "id": "10349028-bda5-4fd4-9f3c-444f6dbb0995",
   "metadata": {},
   "outputs": [
    {
     "data": {
      "image/jpeg": "[encoded data removed]",
      "image/png": "[encoded data removed]",
      "text/plain": [
       "<PIL.Image.Image image mode=RGB size=512x512>"
      ]
     },
     "execution_count": 19,
     "metadata": {},
     "output_type": "execute_result"
    }
   ],
   "source": [
    "from diffusers.utils import load_image\n",
    "from PIL import Image\n",
    "\n",
    "# img = load_image(data[1]['frame_path'])\n",
    "img = load_image(\"datasets/set_1/naaythnuuekiiyrti_l`ypraokhn/esiiyngkhraangkh`ngaemw/image/5d09bb1c66b04b724e371878_0078.jpg\")\n",
    "# img = load_image(\"datasets/set_1/naaythnuuekiiyrti_l`ypraokhn/phllaphth/image/62ea1e3866b04b724eaafe5b_0026.jpg\")\n",
    "img = img.resize((512, 512), Image.Resampling.LANCZOS)\n",
    "img"
   ]
  },
  {
   "cell_type": "code",
   "execution_count": 20,
   "id": "2c9ad231-0f5b-40e7-bbd7-c4663fa23569",
   "metadata": {},
   "outputs": [
    {
     "data": {
      "image/jpeg": "[encoded data removed]",
      "image/png": "[encoded data removed]",
      "text/plain": [
       "<PIL.Image.Image image mode=RGB size=512x512>"
      ]
     },
     "execution_count": 20,
     "metadata": {},
     "output_type": "execute_result"
    }
   ],
   "source": [
    "control_image, left_hands, right_hands = open_pose(img, hand_and_face=True)\n",
    "control_image"
   ]
  },
  {
   "cell_type": "code",
   "execution_count": 21,
   "id": "d39ac04a-b9f6-4dc0-85c5-3f3716d2fbe6",
   "metadata": {},
   "outputs": [
    {
     "name": "stdout",
     "output_type": "stream",
     "text": [
      "21 20\n"
     ]
    },
    {
     "data": {
      "text/plain": [
       "set()"
      ]
     },
     "execution_count": 21,
     "metadata": {},
     "output_type": "execute_result"
    }
   ],
   "source": [
    "common_keypoints = set(left_hands[0]) & set(right_hands[0])\n",
    "\n",
    "print(len(set(left_hands[0])), len(set(right_hands[0])))\n",
    "common_keypoints"
   ]
  },
  {
   "cell_type": "code",
   "execution_count": 22,
   "id": "12728fa8-52c9-496f-95e2-50e0a1a101b8",
   "metadata": {},
   "outputs": [
    {
     "data": {
      "text/plain": [
       "[[Keypoint(x=0.5800781, y=0.66796875, score=1.0, id=-1),\n",
       "  Keypoint(x=0.55859375, y=0.6503906, score=1.0, id=-1),\n",
       "  Keypoint(x=0.5253906, y=0.6328125, score=1.0, id=-1),\n",
       "  Keypoint(x=0.49414062, y=0.6386719, score=1.0, id=-1),\n",
       "  Keypoint(x=0.47070312, y=0.63671875, score=1.0, id=-1),\n",
       "  Keypoint(x=0.5019531, y=0.6699219, score=1.0, id=-1),\n",
       "  Keypoint(x=0.46289062, y=0.6621094, score=1.0, id=-1),\n",
       "  Keypoint(x=0.44335938, y=0.6621094, score=1.0, id=-1),\n",
       "  Keypoint(x=0.42382812, y=0.6621094, score=1.0, id=-1),\n",
       "  Keypoint(x=0.50390625, y=0.69140625, score=1.0, id=-1),\n",
       "  Keypoint(x=0.45898438, y=0.6953125, score=1.0, id=-1),\n",
       "  Keypoint(x=0.43359375, y=0.6953125, score=1.0, id=-1),\n",
       "  Keypoint(x=0.41015625, y=0.6972656, score=1.0, id=-1),\n",
       "  Keypoint(x=0.51171875, y=0.70703125, score=1.0, id=-1),\n",
       "  Keypoint(x=0.47070312, y=0.7167969, score=1.0, id=-1),\n",
       "  Keypoint(x=0.4453125, y=0.72265625, score=1.0, id=-1),\n",
       "  Keypoint(x=0.42578125, y=0.7265625, score=1.0, id=-1),\n",
       "  Keypoint(x=0.5214844, y=0.71875, score=1.0, id=-1),\n",
       "  Keypoint(x=0.48632812, y=0.7324219, score=1.0, id=-1),\n",
       "  Keypoint(x=0.46679688, y=0.7363281, score=1.0, id=-1),\n",
       "  Keypoint(x=0.45507812, y=0.73828125, score=1.0, id=-1)]]"
      ]
     },
     "execution_count": 22,
     "metadata": {},
     "output_type": "execute_result"
    }
   ],
   "source": [
    "left_hands"
   ]
  },
  {
   "cell_type": "code",
   "execution_count": 23,
   "id": "0bc042a2-242a-415a-8cff-d155afa427d3",
   "metadata": {},
   "outputs": [
    {
     "data": {
      "text/plain": [
       "[[Keypoint(x=0.44140625, y=0.33398438, score=1.0, id=-1),\n",
       "  Keypoint(x=0.4765625, y=0.32617188, score=1.0, id=-1),\n",
       "  Keypoint(x=0.5058594, y=0.30078125, score=1.0, id=-1),\n",
       "  Keypoint(x=0.53515625, y=0.29101562, score=1.0, id=-1),\n",
       "  Keypoint(x=0.5566406, y=0.296875, score=1.0, id=-1),\n",
       "  Keypoint(x=0.48242188, y=0.25, score=1.0, id=-1),\n",
       "  Keypoint(x=0.49023438, y=0.21484375, score=1.0, id=-1),\n",
       "  Keypoint(x=0.49804688, y=0.19140625, score=1.0, id=-1),\n",
       "  Keypoint(x=0.50390625, y=0.16992188, score=1.0, id=-1),\n",
       "  Keypoint(x=0.45898438, y=0.24414062, score=1.0, id=-1),\n",
       "  Keypoint(x=0.45898438, y=0.20507812, score=1.0, id=-1),\n",
       "  Keypoint(x=0.4375, y=0.18554688, score=1.0, id=-1),\n",
       "  Keypoint(x=0.42773438, y=0.1640625, score=1.0, id=-1),\n",
       "  Keypoint(x=0.46289062, y=0.24414062, score=1.0, id=-1),\n",
       "  Keypoint(x=0.45898438, y=0.20507812, score=1.0, id=-1),\n",
       "  Keypoint(x=0.43359375, y=0.18945312, score=1.0, id=-1),\n",
       "  Keypoint(x=0.42773438, y=0.16796875, score=1.0, id=-1),\n",
       "  Keypoint(x=0.42773438, y=0.2578125, score=1.0, id=-1),\n",
       "  Keypoint(x=0.41992188, y=0.234375, score=1.0, id=-1),\n",
       "  Keypoint(x=0.41210938, y=0.22265625, score=1.0, id=-1),\n",
       "  Keypoint(x=0.40625, y=0.2109375, score=1.0, id=-1)]]"
      ]
     },
     "execution_count": 23,
     "metadata": {},
     "output_type": "execute_result"
    }
   ],
   "source": [
    "right_hands"
   ]
  },
  {
   "cell_type": "code",
   "execution_count": null,
   "id": "4f9c8ab3-0a9a-45ea-ac7f-330435e79239",
   "metadata": {},
   "outputs": [
    {
     "data": {
      "application/vnd.jupyter.widget-view+json": {
       "model_id": "1f2e6a25c87242449107a5b927926710",
       "version_major": 2,
       "version_minor": 0
      },
      "text/plain": [
       "Processing conditioning images:   0%|          | 0/246317 [00:00<?, ?image/s]"
      ]
     },
     "metadata": {},
     "output_type": "display_data"
    }
   ],
   "source": [
    "from diffusers.utils import load_image\n",
    "from tqdm.auto import tqdm\n",
    "import os\n",
    "import json\n",
    "\n",
    "output_json_file = \"datasets/set_2/conditioning_metadata.json\"\n",
    "conditioning_metadata = []\n",
    "\n",
    "for idx in tqdm(range(df.shape[0]), desc=\"Processing conditioning images\", unit=\"image\"):\n",
    "    save_path = df['frame_path'][idx].replace(\"image\", \"conditioning_image\").replace(\"set_1\", \"set_2\")\n",
    "    conditioning_folder = save_path.split(\"conditioning_image\")[0] + \"conditioning_image\"\n",
    "    os.makedirs(conditioning_folder, exist_ok=True)\n",
    "    if not os.path.exists(save_path) or os.path.getsize(save_path) < 1:\n",
    "        if os.path.exists(save_path) and os.path.getsize(save_path) < 1:\n",
    "            print(f\"File {save_path} is smaller than 1B, regenerating...\")\n",
    "        img = load_image(df['frame_path'][idx])\n",
    "        control_image, left_hands, right_hands = open_pose(img, hand_and_face=True)\n",
    "        if len(left_hands) != 0 and len(right_hands) != 0:\n",
    "            control_image.save(save_path)\n",
    "            conditioning_metadata.append({\n",
    "                \"image\": df['frame_path'][idx],\n",
    "                \"conditioning_image\": save_path,\n",
    "                \"text\": f\"{df['name'][idx]}, Thai man, mid-30s, black suit, dark blue shirt, showing sign language, light blue background.\"\n",
    "            })\n",
    "\n",
    "with open(output_json_file, \"w\", encoding=\"utf-8\") as f:\n",
    "    json.dump(conditioning_metadata, f, ensure_ascii=False, indent=4)\n",
    "\n",
    "print(f\"บันทึก conditioning metadata สำเร็จที่ {output_json_file}\")"
   ]
  },
  {
   "cell_type": "markdown",
   "id": "fc1d8b0a-fb3b-4bfe-b19a-3ccf02dee202",
   "metadata": {},
   "source": [
    "# Split Datasets"
   ]
  },
  {
   "cell_type": "code",
   "execution_count": 3,
   "id": "ad86451e-30b6-4a03-b19f-e9e0a1579049",
   "metadata": {},
   "outputs": [
    {
     "data": {
      "text/plain": [
       "246309"
      ]
     },
     "execution_count": 3,
     "metadata": {},
     "output_type": "execute_result"
    }
   ],
   "source": [
    "import json\n",
    "\n",
    "with open('datasets/set_2/conditioning_metadata.json', 'r', encoding='utf-8') as file:\n",
    "    data = json.load(file)\n",
    "\n",
    "len(data)"
   ]
  },
  {
   "cell_type": "code",
   "execution_count": 4,
   "id": "d052c3c5-262e-4f27-a878-87aa038fdadb",
   "metadata": {},
   "outputs": [
    {
     "data": {
      "text/plain": [
       "{'image': 'datasets/set_1/naangsaawchwaalaa_ecchriywngsaiphsaal/tinghuu/image/5d0916af66b04b724e36c767_0000.jpg',\n",
       " 'conditioning_image': 'datasets/set_2/naangsaawchwaalaa_ecchriywngsaiphsaal/tinghuu/conditioning_image/5d0916af66b04b724e36c767_0000.jpg',\n",
       " 'text': 'TTRS1, Thai man, mid-30s, black suit, dark blue shirt, showing sign language, light blue background.'}"
      ]
     },
     "execution_count": 4,
     "metadata": {},
     "output_type": "execute_result"
    }
   ],
   "source": [
    "data[0]"
   ]
  },
  {
   "cell_type": "code",
   "execution_count": 5,
   "id": "9fd78517-f732-45a4-959a-07c2eb6d7f5c",
   "metadata": {},
   "outputs": [
    {
     "data": {
      "text/html": [
       "<div>\n",
       "<style scoped>\n",
       "    .dataframe tbody tr th:only-of-type {\n",
       "        vertical-align: middle;\n",
       "    }\n",
       "\n",
       "    .dataframe tbody tr th {\n",
       "        vertical-align: top;\n",
       "    }\n",
       "\n",
       "    .dataframe thead th {\n",
       "        text-align: right;\n",
       "    }\n",
       "</style>\n",
       "<table border=\"1\" class=\"dataframe\">\n",
       "  <thead>\n",
       "    <tr style=\"text-align: right;\">\n",
       "      <th></th>\n",
       "      <th>image</th>\n",
       "      <th>conditioning_image</th>\n",
       "      <th>text</th>\n",
       "    </tr>\n",
       "  </thead>\n",
       "  <tbody>\n",
       "    <tr>\n",
       "      <th>0</th>\n",
       "      <td>datasets/set_1/naangsaawchwaalaa_ecchriywngsai...</td>\n",
       "      <td>datasets/set_2/naangsaawchwaalaa_ecchriywngsai...</td>\n",
       "      <td>TTRS1, Thai man, mid-30s, black suit, dark blu...</td>\n",
       "    </tr>\n",
       "    <tr>\n",
       "      <th>1</th>\n",
       "      <td>datasets/set_1/naangsaawchwaalaa_ecchriywngsai...</td>\n",
       "      <td>datasets/set_2/naangsaawchwaalaa_ecchriywngsai...</td>\n",
       "      <td>TTRS1, Thai man, mid-30s, black suit, dark blu...</td>\n",
       "    </tr>\n",
       "    <tr>\n",
       "      <th>2</th>\n",
       "      <td>datasets/set_1/naangsaawchwaalaa_ecchriywngsai...</td>\n",
       "      <td>datasets/set_2/naangsaawchwaalaa_ecchriywngsai...</td>\n",
       "      <td>TTRS1, Thai man, mid-30s, black suit, dark blu...</td>\n",
       "    </tr>\n",
       "    <tr>\n",
       "      <th>3</th>\n",
       "      <td>datasets/set_1/naangsaawchwaalaa_ecchriywngsai...</td>\n",
       "      <td>datasets/set_2/naangsaawchwaalaa_ecchriywngsai...</td>\n",
       "      <td>TTRS1, Thai man, mid-30s, black suit, dark blu...</td>\n",
       "    </tr>\n",
       "    <tr>\n",
       "      <th>4</th>\n",
       "      <td>datasets/set_1/naangsaawchwaalaa_ecchriywngsai...</td>\n",
       "      <td>datasets/set_2/naangsaawchwaalaa_ecchriywngsai...</td>\n",
       "      <td>TTRS1, Thai man, mid-30s, black suit, dark blu...</td>\n",
       "    </tr>\n",
       "    <tr>\n",
       "      <th>...</th>\n",
       "      <td>...</td>\n",
       "      <td>...</td>\n",
       "      <td>...</td>\n",
       "    </tr>\n",
       "    <tr>\n",
       "      <th>246304</th>\n",
       "      <td>datasets/set_1/naaythnuuekiiyrti_l`ypraokhn/ch...</td>\n",
       "      <td>datasets/set_2/naaythnuuekiiyrti_l`ypraokhn/ch...</td>\n",
       "      <td>TTRS2, Thai man, mid-30s, black suit, dark blu...</td>\n",
       "    </tr>\n",
       "    <tr>\n",
       "      <th>246305</th>\n",
       "      <td>datasets/set_1/naaythnuuekiiyrti_l`ypraokhn/ch...</td>\n",
       "      <td>datasets/set_2/naaythnuuekiiyrti_l`ypraokhn/ch...</td>\n",
       "      <td>TTRS2, Thai man, mid-30s, black suit, dark blu...</td>\n",
       "    </tr>\n",
       "    <tr>\n",
       "      <th>246306</th>\n",
       "      <td>datasets/set_1/naaythnuuekiiyrti_l`ypraokhn/ch...</td>\n",
       "      <td>datasets/set_2/naaythnuuekiiyrti_l`ypraokhn/ch...</td>\n",
       "      <td>TTRS2, Thai man, mid-30s, black suit, dark blu...</td>\n",
       "    </tr>\n",
       "    <tr>\n",
       "      <th>246307</th>\n",
       "      <td>datasets/set_1/naaythnuuekiiyrti_l`ypraokhn/ch...</td>\n",
       "      <td>datasets/set_2/naaythnuuekiiyrti_l`ypraokhn/ch...</td>\n",
       "      <td>TTRS2, Thai man, mid-30s, black suit, dark blu...</td>\n",
       "    </tr>\n",
       "    <tr>\n",
       "      <th>246308</th>\n",
       "      <td>datasets/set_1/naaythnuuekiiyrti_l`ypraokhn/ch...</td>\n",
       "      <td>datasets/set_2/naaythnuuekiiyrti_l`ypraokhn/ch...</td>\n",
       "      <td>TTRS2, Thai man, mid-30s, black suit, dark blu...</td>\n",
       "    </tr>\n",
       "  </tbody>\n",
       "</table>\n",
       "<p>246309 rows × 3 columns</p>\n",
       "</div>"
      ],
      "text/plain": [
       "                                                    image  \\\n",
       "0       datasets/set_1/naangsaawchwaalaa_ecchriywngsai...   \n",
       "1       datasets/set_1/naangsaawchwaalaa_ecchriywngsai...   \n",
       "2       datasets/set_1/naangsaawchwaalaa_ecchriywngsai...   \n",
       "3       datasets/set_1/naangsaawchwaalaa_ecchriywngsai...   \n",
       "4       datasets/set_1/naangsaawchwaalaa_ecchriywngsai...   \n",
       "...                                                   ...   \n",
       "246304  datasets/set_1/naaythnuuekiiyrti_l`ypraokhn/ch...   \n",
       "246305  datasets/set_1/naaythnuuekiiyrti_l`ypraokhn/ch...   \n",
       "246306  datasets/set_1/naaythnuuekiiyrti_l`ypraokhn/ch...   \n",
       "246307  datasets/set_1/naaythnuuekiiyrti_l`ypraokhn/ch...   \n",
       "246308  datasets/set_1/naaythnuuekiiyrti_l`ypraokhn/ch...   \n",
       "\n",
       "                                       conditioning_image  \\\n",
       "0       datasets/set_2/naangsaawchwaalaa_ecchriywngsai...   \n",
       "1       datasets/set_2/naangsaawchwaalaa_ecchriywngsai...   \n",
       "2       datasets/set_2/naangsaawchwaalaa_ecchriywngsai...   \n",
       "3       datasets/set_2/naangsaawchwaalaa_ecchriywngsai...   \n",
       "4       datasets/set_2/naangsaawchwaalaa_ecchriywngsai...   \n",
       "...                                                   ...   \n",
       "246304  datasets/set_2/naaythnuuekiiyrti_l`ypraokhn/ch...   \n",
       "246305  datasets/set_2/naaythnuuekiiyrti_l`ypraokhn/ch...   \n",
       "246306  datasets/set_2/naaythnuuekiiyrti_l`ypraokhn/ch...   \n",
       "246307  datasets/set_2/naaythnuuekiiyrti_l`ypraokhn/ch...   \n",
       "246308  datasets/set_2/naaythnuuekiiyrti_l`ypraokhn/ch...   \n",
       "\n",
       "                                                     text  \n",
       "0       TTRS1, Thai man, mid-30s, black suit, dark blu...  \n",
       "1       TTRS1, Thai man, mid-30s, black suit, dark blu...  \n",
       "2       TTRS1, Thai man, mid-30s, black suit, dark blu...  \n",
       "3       TTRS1, Thai man, mid-30s, black suit, dark blu...  \n",
       "4       TTRS1, Thai man, mid-30s, black suit, dark blu...  \n",
       "...                                                   ...  \n",
       "246304  TTRS2, Thai man, mid-30s, black suit, dark blu...  \n",
       "246305  TTRS2, Thai man, mid-30s, black suit, dark blu...  \n",
       "246306  TTRS2, Thai man, mid-30s, black suit, dark blu...  \n",
       "246307  TTRS2, Thai man, mid-30s, black suit, dark blu...  \n",
       "246308  TTRS2, Thai man, mid-30s, black suit, dark blu...  \n",
       "\n",
       "[246309 rows x 3 columns]"
      ]
     },
     "execution_count": 5,
     "metadata": {},
     "output_type": "execute_result"
    }
   ],
   "source": [
    "import pandas as pd\n",
    "\n",
    "df = pd.DataFrame(data)\n",
    "df"
   ]
  },
  {
   "cell_type": "code",
   "execution_count": 7,
   "id": "aceee4fd-bebc-4b80-a0e5-fb16b74452d1",
   "metadata": {},
   "outputs": [
    {
     "data": {
      "text/html": [
       "<div>\n",
       "<style scoped>\n",
       "    .dataframe tbody tr th:only-of-type {\n",
       "        vertical-align: middle;\n",
       "    }\n",
       "\n",
       "    .dataframe tbody tr th {\n",
       "        vertical-align: top;\n",
       "    }\n",
       "\n",
       "    .dataframe thead th {\n",
       "        text-align: right;\n",
       "    }\n",
       "</style>\n",
       "<table border=\"1\" class=\"dataframe\">\n",
       "  <thead>\n",
       "    <tr style=\"text-align: right;\">\n",
       "      <th></th>\n",
       "      <th>image</th>\n",
       "      <th>conditioning_image</th>\n",
       "      <th>text</th>\n",
       "    </tr>\n",
       "  </thead>\n",
       "  <tbody>\n",
       "    <tr>\n",
       "      <th>0</th>\n",
       "      <td>datasets/set_1/naangsaawchwaalaa_ecchriywngsai...</td>\n",
       "      <td>datasets/set_2/naangsaawchwaalaa_ecchriywngsai...</td>\n",
       "      <td>TTRS1, Thai man, mid-30s, black suit, dark blu...</td>\n",
       "    </tr>\n",
       "    <tr>\n",
       "      <th>1</th>\n",
       "      <td>datasets/set_1/naangsaawchwaalaa_ecchriywngsai...</td>\n",
       "      <td>datasets/set_2/naangsaawchwaalaa_ecchriywngsai...</td>\n",
       "      <td>TTRS1, Thai man, mid-30s, black suit, dark blu...</td>\n",
       "    </tr>\n",
       "    <tr>\n",
       "      <th>2</th>\n",
       "      <td>datasets/set_1/naangsaawchwaalaa_ecchriywngsai...</td>\n",
       "      <td>datasets/set_2/naangsaawchwaalaa_ecchriywngsai...</td>\n",
       "      <td>TTRS1, Thai man, mid-30s, black suit, dark blu...</td>\n",
       "    </tr>\n",
       "    <tr>\n",
       "      <th>3</th>\n",
       "      <td>datasets/set_1/naangsaawchwaalaa_ecchriywngsai...</td>\n",
       "      <td>datasets/set_2/naangsaawchwaalaa_ecchriywngsai...</td>\n",
       "      <td>TTRS1, Thai man, mid-30s, black suit, dark blu...</td>\n",
       "    </tr>\n",
       "    <tr>\n",
       "      <th>4</th>\n",
       "      <td>datasets/set_1/naangsaawchwaalaa_ecchriywngsai...</td>\n",
       "      <td>datasets/set_2/naangsaawchwaalaa_ecchriywngsai...</td>\n",
       "      <td>TTRS1, Thai man, mid-30s, black suit, dark blu...</td>\n",
       "    </tr>\n",
       "    <tr>\n",
       "      <th>...</th>\n",
       "      <td>...</td>\n",
       "      <td>...</td>\n",
       "      <td>...</td>\n",
       "    </tr>\n",
       "    <tr>\n",
       "      <th>246304</th>\n",
       "      <td>datasets/set_1/naaythnuuekiiyrti_l`ypraokhn/ch...</td>\n",
       "      <td>datasets/set_2/naaythnuuekiiyrti_l`ypraokhn/ch...</td>\n",
       "      <td>TTRS2, Thai man, mid-30s, black suit, dark blu...</td>\n",
       "    </tr>\n",
       "    <tr>\n",
       "      <th>246305</th>\n",
       "      <td>datasets/set_1/naaythnuuekiiyrti_l`ypraokhn/ch...</td>\n",
       "      <td>datasets/set_2/naaythnuuekiiyrti_l`ypraokhn/ch...</td>\n",
       "      <td>TTRS2, Thai man, mid-30s, black suit, dark blu...</td>\n",
       "    </tr>\n",
       "    <tr>\n",
       "      <th>246306</th>\n",
       "      <td>datasets/set_1/naaythnuuekiiyrti_l`ypraokhn/ch...</td>\n",
       "      <td>datasets/set_2/naaythnuuekiiyrti_l`ypraokhn/ch...</td>\n",
       "      <td>TTRS2, Thai man, mid-30s, black suit, dark blu...</td>\n",
       "    </tr>\n",
       "    <tr>\n",
       "      <th>246307</th>\n",
       "      <td>datasets/set_1/naaythnuuekiiyrti_l`ypraokhn/ch...</td>\n",
       "      <td>datasets/set_2/naaythnuuekiiyrti_l`ypraokhn/ch...</td>\n",
       "      <td>TTRS2, Thai man, mid-30s, black suit, dark blu...</td>\n",
       "    </tr>\n",
       "    <tr>\n",
       "      <th>246308</th>\n",
       "      <td>datasets/set_1/naaythnuuekiiyrti_l`ypraokhn/ch...</td>\n",
       "      <td>datasets/set_2/naaythnuuekiiyrti_l`ypraokhn/ch...</td>\n",
       "      <td>TTRS2, Thai man, mid-30s, black suit, dark blu...</td>\n",
       "    </tr>\n",
       "  </tbody>\n",
       "</table>\n",
       "<p>246309 rows × 3 columns</p>\n",
       "</div>"
      ],
      "text/plain": [
       "                                                    image  \\\n",
       "0       datasets/set_1/naangsaawchwaalaa_ecchriywngsai...   \n",
       "1       datasets/set_1/naangsaawchwaalaa_ecchriywngsai...   \n",
       "2       datasets/set_1/naangsaawchwaalaa_ecchriywngsai...   \n",
       "3       datasets/set_1/naangsaawchwaalaa_ecchriywngsai...   \n",
       "4       datasets/set_1/naangsaawchwaalaa_ecchriywngsai...   \n",
       "...                                                   ...   \n",
       "246304  datasets/set_1/naaythnuuekiiyrti_l`ypraokhn/ch...   \n",
       "246305  datasets/set_1/naaythnuuekiiyrti_l`ypraokhn/ch...   \n",
       "246306  datasets/set_1/naaythnuuekiiyrti_l`ypraokhn/ch...   \n",
       "246307  datasets/set_1/naaythnuuekiiyrti_l`ypraokhn/ch...   \n",
       "246308  datasets/set_1/naaythnuuekiiyrti_l`ypraokhn/ch...   \n",
       "\n",
       "                                       conditioning_image  \\\n",
       "0       datasets/set_2/naangsaawchwaalaa_ecchriywngsai...   \n",
       "1       datasets/set_2/naangsaawchwaalaa_ecchriywngsai...   \n",
       "2       datasets/set_2/naangsaawchwaalaa_ecchriywngsai...   \n",
       "3       datasets/set_2/naangsaawchwaalaa_ecchriywngsai...   \n",
       "4       datasets/set_2/naangsaawchwaalaa_ecchriywngsai...   \n",
       "...                                                   ...   \n",
       "246304  datasets/set_2/naaythnuuekiiyrti_l`ypraokhn/ch...   \n",
       "246305  datasets/set_2/naaythnuuekiiyrti_l`ypraokhn/ch...   \n",
       "246306  datasets/set_2/naaythnuuekiiyrti_l`ypraokhn/ch...   \n",
       "246307  datasets/set_2/naaythnuuekiiyrti_l`ypraokhn/ch...   \n",
       "246308  datasets/set_2/naaythnuuekiiyrti_l`ypraokhn/ch...   \n",
       "\n",
       "                                                     text  \n",
       "0       TTRS1, Thai man, mid-30s, black suit, dark blu...  \n",
       "1       TTRS1, Thai man, mid-30s, black suit, dark blu...  \n",
       "2       TTRS1, Thai man, mid-30s, black suit, dark blu...  \n",
       "3       TTRS1, Thai man, mid-30s, black suit, dark blu...  \n",
       "4       TTRS1, Thai man, mid-30s, black suit, dark blu...  \n",
       "...                                                   ...  \n",
       "246304  TTRS2, Thai man, mid-30s, black suit, dark blu...  \n",
       "246305  TTRS2, Thai man, mid-30s, black suit, dark blu...  \n",
       "246306  TTRS2, Thai man, mid-30s, black suit, dark blu...  \n",
       "246307  TTRS2, Thai man, mid-30s, black suit, dark blu...  \n",
       "246308  TTRS2, Thai man, mid-30s, black suit, dark blu...  \n",
       "\n",
       "[246309 rows x 3 columns]"
      ]
     },
     "execution_count": 7,
     "metadata": {},
     "output_type": "execute_result"
    }
   ],
   "source": [
    "import os\n",
    "\n",
    "df[\"exists\"] = df[\"conditioning_image\"].apply(lambda x: os.path.exists(x))\n",
    "df = df[df[\"exists\"]].drop(columns=[\"exists\"]).reset_index(drop=True)\n",
    "df"
   ]
  },
  {
   "cell_type": "code",
   "execution_count": 4,
   "id": "8608d422-47a9-4472-8144-c8160bde628d",
   "metadata": {},
   "outputs": [
    {
     "name": "stdout",
     "output_type": "stream",
     "text": [
      "Train size: 221685\n",
      "Test size: 24632\n"
     ]
    }
   ],
   "source": [
    "from sklearn.model_selection import train_test_split\n",
    "\n",
    "test_ratio = 0.1\n",
    "\n",
    "train_data, test_data = train_test_split(\n",
    "    df, test_size=test_ratio, stratify=df['text'], random_state=42\n",
    ")\n",
    "\n",
    "print(f\"Train size: {len(train_data)}\")\n",
    "print(f\"Test size: {len(test_data)}\")"
   ]
  },
  {
   "cell_type": "code",
   "execution_count": 5,
   "id": "4c01650f-f461-4335-806d-27ffe5f07c3d",
   "metadata": {},
   "outputs": [],
   "source": [
    "train_data.to_json('datasets/set_1/train_data.json', orient='records', force_ascii=False, indent=4)\n",
    "test_data.to_json('datasets/set_1/test_data.json', orient='records', force_ascii=False, indent=4)"
   ]
  },
  {
   "cell_type": "markdown",
   "id": "60a5c0dc-ca61-42ac-be52-e44d6cfc0b12",
   "metadata": {},
   "source": [
    "# Sub Datasets"
   ]
  },
  {
   "cell_type": "code",
   "execution_count": 10,
   "id": "f2ffab98-4d47-4a2e-9017-6fb152fd2c65",
   "metadata": {},
   "outputs": [
    {
     "data": {
      "text/plain": [
       "24631"
      ]
     },
     "execution_count": 10,
     "metadata": {},
     "output_type": "execute_result"
    }
   ],
   "source": [
    "import json\n",
    "\n",
    "with open('datasets/set_2/test_data.json', 'r', encoding='utf-8') as file:\n",
    "    data = json.load(file)\n",
    "\n",
    "len(data)"
   ]
  },
  {
   "cell_type": "code",
   "execution_count": 11,
   "id": "cbae3d79-0195-42c9-a2a1-506a8820fb71",
   "metadata": {},
   "outputs": [
    {
     "data": {
      "text/plain": [
       "{'image': 'datasets/set_1/naangsaawchwaalaa_ecchriywngsaiphsaal/rthbangkhabwithyu/image/5d0b468966b04b724e38096b_0063.jpg',\n",
       " 'conditioning_image': 'datasets/set_2/naangsaawchwaalaa_ecchriywngsaiphsaal/rthbangkhabwithyu/conditioning_image/5d0b468966b04b724e38096b_0063.jpg',\n",
       " 'text': 'TTRS1, Thai man, mid-30s, black suit, dark blue shirt, showing sign language, light blue background.'}"
      ]
     },
     "execution_count": 11,
     "metadata": {},
     "output_type": "execute_result"
    }
   ],
   "source": [
    "data[0]"
   ]
  },
  {
   "cell_type": "code",
   "execution_count": 12,
   "id": "cbd767e4-4358-4546-82d8-8771b9d40bbb",
   "metadata": {},
   "outputs": [
    {
     "data": {
      "text/html": [
       "<div>\n",
       "<style scoped>\n",
       "    .dataframe tbody tr th:only-of-type {\n",
       "        vertical-align: middle;\n",
       "    }\n",
       "\n",
       "    .dataframe tbody tr th {\n",
       "        vertical-align: top;\n",
       "    }\n",
       "\n",
       "    .dataframe thead th {\n",
       "        text-align: right;\n",
       "    }\n",
       "</style>\n",
       "<table border=\"1\" class=\"dataframe\">\n",
       "  <thead>\n",
       "    <tr style=\"text-align: right;\">\n",
       "      <th></th>\n",
       "      <th>image</th>\n",
       "      <th>conditioning_image</th>\n",
       "      <th>text</th>\n",
       "    </tr>\n",
       "  </thead>\n",
       "  <tbody>\n",
       "    <tr>\n",
       "      <th>0</th>\n",
       "      <td>datasets/set_1/naangsaawchwaalaa_ecchriywngsai...</td>\n",
       "      <td>datasets/set_2/naangsaawchwaalaa_ecchriywngsai...</td>\n",
       "      <td>TTRS1, Thai man, mid-30s, black suit, dark blu...</td>\n",
       "    </tr>\n",
       "    <tr>\n",
       "      <th>1</th>\n",
       "      <td>datasets/set_1/kaaycchnaa_phimphaa/mhaawithyaa...</td>\n",
       "      <td>datasets/set_2/kaaycchnaa_phimphaa/mhaawithyaa...</td>\n",
       "      <td>TTRS6, Thai man, mid-30s, black suit, dark blu...</td>\n",
       "    </tr>\n",
       "    <tr>\n",
       "      <th>2</th>\n",
       "      <td>datasets/set_1/naaythnuuekiiyrti_l`ypraokhn/la...</td>\n",
       "      <td>datasets/set_2/naaythnuuekiiyrti_l`ypraokhn/la...</td>\n",
       "      <td>TTRS2, Thai man, mid-30s, black suit, dark blu...</td>\n",
       "    </tr>\n",
       "    <tr>\n",
       "      <th>3</th>\n",
       "      <td>datasets/set_1/naaythnuuekiiyrti_l`ypraokhn/wi...</td>\n",
       "      <td>datasets/set_2/naaythnuuekiiyrti_l`ypraokhn/wi...</td>\n",
       "      <td>TTRS2, Thai man, mid-30s, black suit, dark blu...</td>\n",
       "    </tr>\n",
       "    <tr>\n",
       "      <th>4</th>\n",
       "      <td>datasets/set_1/kaaycchnaa_phimphaa/kamair/imag...</td>\n",
       "      <td>datasets/set_2/kaaycchnaa_phimphaa/kamair/cond...</td>\n",
       "      <td>TTRS6, Thai man, mid-30s, black suit, dark blu...</td>\n",
       "    </tr>\n",
       "    <tr>\n",
       "      <th>...</th>\n",
       "      <td>...</td>\n",
       "      <td>...</td>\n",
       "      <td>...</td>\n",
       "    </tr>\n",
       "    <tr>\n",
       "      <th>24626</th>\n",
       "      <td>datasets/set_1/naangsaawkaaycchnaa_phimphaa/lu...</td>\n",
       "      <td>datasets/set_2/naangsaawkaaycchnaa_phimphaa/lu...</td>\n",
       "      <td>TTRS6, Thai man, mid-30s, black suit, dark blu...</td>\n",
       "    </tr>\n",
       "    <tr>\n",
       "      <th>24627</th>\n",
       "      <td>datasets/set_1/naangsaawchwaalaa_ecchriywngsai...</td>\n",
       "      <td>datasets/set_2/naangsaawchwaalaa_ecchriywngsai...</td>\n",
       "      <td>TTRS1, Thai man, mid-30s, black suit, dark blu...</td>\n",
       "    </tr>\n",
       "    <tr>\n",
       "      <th>24628</th>\n",
       "      <td>datasets/set_1/thnuuekiiyrti_l`ypraokhn/sabepl...</td>\n",
       "      <td>datasets/set_2/thnuuekiiyrti_l`ypraokhn/sabepl...</td>\n",
       "      <td>TTRS2, Thai man, mid-30s, black suit, dark blu...</td>\n",
       "    </tr>\n",
       "    <tr>\n",
       "      <th>24629</th>\n",
       "      <td>datasets/set_1/naaythnuuekiiyrti_l`ypraokhn/ka...</td>\n",
       "      <td>datasets/set_2/naaythnuuekiiyrti_l`ypraokhn/ka...</td>\n",
       "      <td>TTRS2, Thai man, mid-30s, black suit, dark blu...</td>\n",
       "    </tr>\n",
       "    <tr>\n",
       "      <th>24630</th>\n",
       "      <td>datasets/set_1/naaythnuuekiiyrti_l`ypraokhn/kh...</td>\n",
       "      <td>datasets/set_2/naaythnuuekiiyrti_l`ypraokhn/kh...</td>\n",
       "      <td>TTRS2, Thai man, mid-30s, black suit, dark blu...</td>\n",
       "    </tr>\n",
       "  </tbody>\n",
       "</table>\n",
       "<p>24631 rows × 3 columns</p>\n",
       "</div>"
      ],
      "text/plain": [
       "                                                   image  \\\n",
       "0      datasets/set_1/naangsaawchwaalaa_ecchriywngsai...   \n",
       "1      datasets/set_1/kaaycchnaa_phimphaa/mhaawithyaa...   \n",
       "2      datasets/set_1/naaythnuuekiiyrti_l`ypraokhn/la...   \n",
       "3      datasets/set_1/naaythnuuekiiyrti_l`ypraokhn/wi...   \n",
       "4      datasets/set_1/kaaycchnaa_phimphaa/kamair/imag...   \n",
       "...                                                  ...   \n",
       "24626  datasets/set_1/naangsaawkaaycchnaa_phimphaa/lu...   \n",
       "24627  datasets/set_1/naangsaawchwaalaa_ecchriywngsai...   \n",
       "24628  datasets/set_1/thnuuekiiyrti_l`ypraokhn/sabepl...   \n",
       "24629  datasets/set_1/naaythnuuekiiyrti_l`ypraokhn/ka...   \n",
       "24630  datasets/set_1/naaythnuuekiiyrti_l`ypraokhn/kh...   \n",
       "\n",
       "                                      conditioning_image  \\\n",
       "0      datasets/set_2/naangsaawchwaalaa_ecchriywngsai...   \n",
       "1      datasets/set_2/kaaycchnaa_phimphaa/mhaawithyaa...   \n",
       "2      datasets/set_2/naaythnuuekiiyrti_l`ypraokhn/la...   \n",
       "3      datasets/set_2/naaythnuuekiiyrti_l`ypraokhn/wi...   \n",
       "4      datasets/set_2/kaaycchnaa_phimphaa/kamair/cond...   \n",
       "...                                                  ...   \n",
       "24626  datasets/set_2/naangsaawkaaycchnaa_phimphaa/lu...   \n",
       "24627  datasets/set_2/naangsaawchwaalaa_ecchriywngsai...   \n",
       "24628  datasets/set_2/thnuuekiiyrti_l`ypraokhn/sabepl...   \n",
       "24629  datasets/set_2/naaythnuuekiiyrti_l`ypraokhn/ka...   \n",
       "24630  datasets/set_2/naaythnuuekiiyrti_l`ypraokhn/kh...   \n",
       "\n",
       "                                                    text  \n",
       "0      TTRS1, Thai man, mid-30s, black suit, dark blu...  \n",
       "1      TTRS6, Thai man, mid-30s, black suit, dark blu...  \n",
       "2      TTRS2, Thai man, mid-30s, black suit, dark blu...  \n",
       "3      TTRS2, Thai man, mid-30s, black suit, dark blu...  \n",
       "4      TTRS6, Thai man, mid-30s, black suit, dark blu...  \n",
       "...                                                  ...  \n",
       "24626  TTRS6, Thai man, mid-30s, black suit, dark blu...  \n",
       "24627  TTRS1, Thai man, mid-30s, black suit, dark blu...  \n",
       "24628  TTRS2, Thai man, mid-30s, black suit, dark blu...  \n",
       "24629  TTRS2, Thai man, mid-30s, black suit, dark blu...  \n",
       "24630  TTRS2, Thai man, mid-30s, black suit, dark blu...  \n",
       "\n",
       "[24631 rows x 3 columns]"
      ]
     },
     "execution_count": 12,
     "metadata": {},
     "output_type": "execute_result"
    }
   ],
   "source": [
    "import pandas as pd\n",
    "\n",
    "df = pd.DataFrame(data)\n",
    "df"
   ]
  },
  {
   "cell_type": "code",
   "execution_count": 13,
   "id": "35bf5a52-6340-4084-9ce9-12a1f89b1980",
   "metadata": {},
   "outputs": [
    {
     "data": {
      "text/plain": [
       "text\n",
       "TTRS2, Thai man, mid-30s, black suit, dark blue shirt, showing sign language, light blue background.    11643\n",
       "TTRS6, Thai man, mid-30s, black suit, dark blue shirt, showing sign language, light blue background.     8928\n",
       "TTRS1, Thai man, mid-30s, black suit, dark blue shirt, showing sign language, light blue background.     3887\n",
       "TTRS7, Thai man, mid-30s, black suit, dark blue shirt, showing sign language, light blue background.      136\n",
       "TTRS3, Thai man, mid-30s, black suit, dark blue shirt, showing sign language, light blue background.       22\n",
       "TTRS4, Thai man, mid-30s, black suit, dark blue shirt, showing sign language, light blue background.        8\n",
       "TTRS5, Thai man, mid-30s, black suit, dark blue shirt, showing sign language, light blue background.        7\n",
       "Name: count, dtype: int64"
      ]
     },
     "execution_count": 13,
     "metadata": {},
     "output_type": "execute_result"
    }
   ],
   "source": [
    "df['text'].value_counts()"
   ]
  },
  {
   "cell_type": "code",
   "execution_count": 14,
   "id": "9981768f-1494-45d0-a0bb-c05bc6963d95",
   "metadata": {},
   "outputs": [
    {
     "data": {
      "text/plain": [
       "name\n",
       "TTRS2    11643\n",
       "TTRS6     8928\n",
       "TTRS1     3887\n",
       "TTRS7      136\n",
       "TTRS3       22\n",
       "TTRS4        8\n",
       "TTRS5        7\n",
       "Name: count, dtype: int64"
      ]
     },
     "execution_count": 14,
     "metadata": {},
     "output_type": "execute_result"
    }
   ],
   "source": [
    "df['name'] = df['text'].str.replace(', Thai man, mid-30s, black suit, dark blue shirt, showing sign language, light blue background.', '')\n",
    "df['name'].value_counts()"
   ]
  },
  {
   "cell_type": "code",
   "execution_count": 15,
   "id": "903b7003-709d-4814-a327-ff377a889859",
   "metadata": {},
   "outputs": [
    {
     "data": {
      "text/plain": [
       "{'TTRS1', 'TTRS2', 'TTRS3', 'TTRS4', 'TTRS5', 'TTRS6', 'TTRS7'}"
      ]
     },
     "execution_count": 15,
     "metadata": {},
     "output_type": "execute_result"
    }
   ],
   "source": [
    "set(df['name'].values)"
   ]
  },
  {
   "cell_type": "code",
   "execution_count": 16,
   "id": "8502fe8c-fe7d-40c0-ba53-5509c28cda02",
   "metadata": {},
   "outputs": [
    {
     "data": {
      "text/html": [
       "<div>\n",
       "<style scoped>\n",
       "    .dataframe tbody tr th:only-of-type {\n",
       "        vertical-align: middle;\n",
       "    }\n",
       "\n",
       "    .dataframe tbody tr th {\n",
       "        vertical-align: top;\n",
       "    }\n",
       "\n",
       "    .dataframe thead th {\n",
       "        text-align: right;\n",
       "    }\n",
       "</style>\n",
       "<table border=\"1\" class=\"dataframe\">\n",
       "  <thead>\n",
       "    <tr style=\"text-align: right;\">\n",
       "      <th></th>\n",
       "      <th>image</th>\n",
       "      <th>conditioning_image</th>\n",
       "      <th>text</th>\n",
       "      <th>name</th>\n",
       "    </tr>\n",
       "  </thead>\n",
       "  <tbody>\n",
       "    <tr>\n",
       "      <th>0</th>\n",
       "      <td>datasets/set_1/naangsaawchwaalaa_ecchriywngsai...</td>\n",
       "      <td>datasets/set_2/naangsaawchwaalaa_ecchriywngsai...</td>\n",
       "      <td>TTRS1, Thai woman, mid-30s, black suit, dark b...</td>\n",
       "      <td>TTRS1</td>\n",
       "    </tr>\n",
       "    <tr>\n",
       "      <th>1</th>\n",
       "      <td>datasets/set_1/kaaycchnaa_phimphaa/mhaawithyaa...</td>\n",
       "      <td>datasets/set_2/kaaycchnaa_phimphaa/mhaawithyaa...</td>\n",
       "      <td>TTRS6, Thai woman, mid-30s, black suit, dark b...</td>\n",
       "      <td>TTRS6</td>\n",
       "    </tr>\n",
       "    <tr>\n",
       "      <th>2</th>\n",
       "      <td>datasets/set_1/naaythnuuekiiyrti_l`ypraokhn/la...</td>\n",
       "      <td>datasets/set_2/naaythnuuekiiyrti_l`ypraokhn/la...</td>\n",
       "      <td>TTRS2, Thai man, mid-30s, black suit, dark blu...</td>\n",
       "      <td>TTRS2</td>\n",
       "    </tr>\n",
       "    <tr>\n",
       "      <th>3</th>\n",
       "      <td>datasets/set_1/naaythnuuekiiyrti_l`ypraokhn/wi...</td>\n",
       "      <td>datasets/set_2/naaythnuuekiiyrti_l`ypraokhn/wi...</td>\n",
       "      <td>TTRS2, Thai man, mid-30s, black suit, dark blu...</td>\n",
       "      <td>TTRS2</td>\n",
       "    </tr>\n",
       "    <tr>\n",
       "      <th>4</th>\n",
       "      <td>datasets/set_1/kaaycchnaa_phimphaa/kamair/imag...</td>\n",
       "      <td>datasets/set_2/kaaycchnaa_phimphaa/kamair/cond...</td>\n",
       "      <td>TTRS6, Thai woman, mid-30s, black suit, dark b...</td>\n",
       "      <td>TTRS6</td>\n",
       "    </tr>\n",
       "    <tr>\n",
       "      <th>...</th>\n",
       "      <td>...</td>\n",
       "      <td>...</td>\n",
       "      <td>...</td>\n",
       "      <td>...</td>\n",
       "    </tr>\n",
       "    <tr>\n",
       "      <th>24626</th>\n",
       "      <td>datasets/set_1/naangsaawkaaycchnaa_phimphaa/lu...</td>\n",
       "      <td>datasets/set_2/naangsaawkaaycchnaa_phimphaa/lu...</td>\n",
       "      <td>TTRS6, Thai woman, mid-30s, black suit, dark b...</td>\n",
       "      <td>TTRS6</td>\n",
       "    </tr>\n",
       "    <tr>\n",
       "      <th>24627</th>\n",
       "      <td>datasets/set_1/naangsaawchwaalaa_ecchriywngsai...</td>\n",
       "      <td>datasets/set_2/naangsaawchwaalaa_ecchriywngsai...</td>\n",
       "      <td>TTRS1, Thai woman, mid-30s, black suit, dark b...</td>\n",
       "      <td>TTRS1</td>\n",
       "    </tr>\n",
       "    <tr>\n",
       "      <th>24628</th>\n",
       "      <td>datasets/set_1/thnuuekiiyrti_l`ypraokhn/sabepl...</td>\n",
       "      <td>datasets/set_2/thnuuekiiyrti_l`ypraokhn/sabepl...</td>\n",
       "      <td>TTRS2, Thai man, mid-30s, black suit, dark blu...</td>\n",
       "      <td>TTRS2</td>\n",
       "    </tr>\n",
       "    <tr>\n",
       "      <th>24629</th>\n",
       "      <td>datasets/set_1/naaythnuuekiiyrti_l`ypraokhn/ka...</td>\n",
       "      <td>datasets/set_2/naaythnuuekiiyrti_l`ypraokhn/ka...</td>\n",
       "      <td>TTRS2, Thai man, mid-30s, black suit, dark blu...</td>\n",
       "      <td>TTRS2</td>\n",
       "    </tr>\n",
       "    <tr>\n",
       "      <th>24630</th>\n",
       "      <td>datasets/set_1/naaythnuuekiiyrti_l`ypraokhn/kh...</td>\n",
       "      <td>datasets/set_2/naaythnuuekiiyrti_l`ypraokhn/kh...</td>\n",
       "      <td>TTRS2, Thai man, mid-30s, black suit, dark blu...</td>\n",
       "      <td>TTRS2</td>\n",
       "    </tr>\n",
       "  </tbody>\n",
       "</table>\n",
       "<p>24631 rows × 4 columns</p>\n",
       "</div>"
      ],
      "text/plain": [
       "                                                   image  \\\n",
       "0      datasets/set_1/naangsaawchwaalaa_ecchriywngsai...   \n",
       "1      datasets/set_1/kaaycchnaa_phimphaa/mhaawithyaa...   \n",
       "2      datasets/set_1/naaythnuuekiiyrti_l`ypraokhn/la...   \n",
       "3      datasets/set_1/naaythnuuekiiyrti_l`ypraokhn/wi...   \n",
       "4      datasets/set_1/kaaycchnaa_phimphaa/kamair/imag...   \n",
       "...                                                  ...   \n",
       "24626  datasets/set_1/naangsaawkaaycchnaa_phimphaa/lu...   \n",
       "24627  datasets/set_1/naangsaawchwaalaa_ecchriywngsai...   \n",
       "24628  datasets/set_1/thnuuekiiyrti_l`ypraokhn/sabepl...   \n",
       "24629  datasets/set_1/naaythnuuekiiyrti_l`ypraokhn/ka...   \n",
       "24630  datasets/set_1/naaythnuuekiiyrti_l`ypraokhn/kh...   \n",
       "\n",
       "                                      conditioning_image  \\\n",
       "0      datasets/set_2/naangsaawchwaalaa_ecchriywngsai...   \n",
       "1      datasets/set_2/kaaycchnaa_phimphaa/mhaawithyaa...   \n",
       "2      datasets/set_2/naaythnuuekiiyrti_l`ypraokhn/la...   \n",
       "3      datasets/set_2/naaythnuuekiiyrti_l`ypraokhn/wi...   \n",
       "4      datasets/set_2/kaaycchnaa_phimphaa/kamair/cond...   \n",
       "...                                                  ...   \n",
       "24626  datasets/set_2/naangsaawkaaycchnaa_phimphaa/lu...   \n",
       "24627  datasets/set_2/naangsaawchwaalaa_ecchriywngsai...   \n",
       "24628  datasets/set_2/thnuuekiiyrti_l`ypraokhn/sabepl...   \n",
       "24629  datasets/set_2/naaythnuuekiiyrti_l`ypraokhn/ka...   \n",
       "24630  datasets/set_2/naaythnuuekiiyrti_l`ypraokhn/kh...   \n",
       "\n",
       "                                                    text   name  \n",
       "0      TTRS1, Thai woman, mid-30s, black suit, dark b...  TTRS1  \n",
       "1      TTRS6, Thai woman, mid-30s, black suit, dark b...  TTRS6  \n",
       "2      TTRS2, Thai man, mid-30s, black suit, dark blu...  TTRS2  \n",
       "3      TTRS2, Thai man, mid-30s, black suit, dark blu...  TTRS2  \n",
       "4      TTRS6, Thai woman, mid-30s, black suit, dark b...  TTRS6  \n",
       "...                                                  ...    ...  \n",
       "24626  TTRS6, Thai woman, mid-30s, black suit, dark b...  TTRS6  \n",
       "24627  TTRS1, Thai woman, mid-30s, black suit, dark b...  TTRS1  \n",
       "24628  TTRS2, Thai man, mid-30s, black suit, dark blu...  TTRS2  \n",
       "24629  TTRS2, Thai man, mid-30s, black suit, dark blu...  TTRS2  \n",
       "24630  TTRS2, Thai man, mid-30s, black suit, dark blu...  TTRS2  \n",
       "\n",
       "[24631 rows x 4 columns]"
      ]
     },
     "execution_count": 16,
     "metadata": {},
     "output_type": "execute_result"
    }
   ],
   "source": [
    "def replace_gender(text, name):\n",
    "    if name in [\"TTRS1\", \"TTRS6\", \"TTRS7\"]:\n",
    "        return text.replace(\"man\", \"woman\")\n",
    "    return text\n",
    "\n",
    "df[\"text\"] = df.apply(lambda row: replace_gender(row[\"text\"], row[\"name\"]), axis=1)\n",
    "df"
   ]
  },
  {
   "cell_type": "code",
   "execution_count": 17,
   "id": "5e662313-57b1-4a72-b1d1-adbbfed84b8b",
   "metadata": {},
   "outputs": [
    {
     "name": "stdout",
     "output_type": "stream",
     "text": [
      "บันทึกข้อมูลของ 'TTRS7' ลงในไฟล์ datasets/set_2/json_sub_people/test_data_TTRS7.json\n",
      "บันทึกข้อมูลของ 'TTRS1' ลงในไฟล์ datasets/set_2/json_sub_people/test_data_TTRS1.json\n",
      "บันทึกข้อมูลของ 'TTRS6' ลงในไฟล์ datasets/set_2/json_sub_people/test_data_TTRS6.json\n",
      "บันทึกข้อมูลของ 'TTRS3' ลงในไฟล์ datasets/set_2/json_sub_people/test_data_TTRS3.json\n",
      "บันทึกข้อมูลของ 'TTRS2' ลงในไฟล์ datasets/set_2/json_sub_people/test_data_TTRS2.json\n",
      "บันทึกข้อมูลของ 'TTRS4' ลงในไฟล์ datasets/set_2/json_sub_people/test_data_TTRS4.json\n",
      "บันทึกข้อมูลของ 'TTRS5' ลงในไฟล์ datasets/set_2/json_sub_people/test_data_TTRS5.json\n"
     ]
    }
   ],
   "source": [
    "names = list(set(df['name'].values))\n",
    "\n",
    "for _, name in enumerate(names, start=1):\n",
    "    df_filtered = df[df['name'] == name]\n",
    "    output_filename = f'datasets/set_2/json_sub_people/test_data_{name}.json'\n",
    "    df_filtered.to_json(output_filename, orient='records', force_ascii=False, indent=4)\n",
    "    print(f\"บันทึกข้อมูลของ '{name}' ลงในไฟล์ {output_filename}\")"
   ]
  },
  {
   "cell_type": "code",
   "execution_count": null,
   "id": "14304607-da1e-4582-93f8-ca2c2a3f817c",
   "metadata": {},
   "outputs": [],
   "source": []
  }
 ],
 "metadata": {
  "kernelspec": {
   "display_name": "Python 3 (ipykernel)",
   "language": "python",
   "name": "python3"
  },
  "language_info": {
   "codemirror_mode": {
    "name": "ipython",
    "version": 3
   },
   "file_extension": ".py",
   "mimetype": "text/x-python",
   "name": "python",
   "nbconvert_exporter": "python",
   "pygments_lexer": "ipython3",
   "version": "3.10.0"
  }
 },
 "nbformat": 4,
 "nbformat_minor": 5
}
